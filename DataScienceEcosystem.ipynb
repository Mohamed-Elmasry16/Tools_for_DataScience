{
 "cells": [
  {
   "cell_type": "markdown",
   "id": "2a3d14b2-c4cb-4c66-8fcf-bd05de7bd5c7",
   "metadata": {},
   "source": [
    "# Data Science Tools and Ecosystem\n"
   ]
  },
  {
   "cell_type": "markdown",
   "id": "515209e6-1697-4839-9b0b-1c123af97d52",
   "metadata": {},
   "source": [
    "In this notebook, Data Science Tools and Ecosystem are summarized."
   ]
  },
  {
   "cell_type": "markdown",
   "id": "eea8494e-3e9a-41c0-9a24-bb4568ece941",
   "metadata": {},
   "source": [
    "**Objectives:**\n",
    "- List popular languages for Data Science\n",
    "- List commonly used libraries used by Data Scientists\n",
    "- list Data Science Tools\n",
    "- arithmetic expressions in Python\n",
    "\n",
    "    "
   ]
  },
  {
   "cell_type": "markdown",
   "id": "6bbf0d17-7960-49d0-8a3a-b5bd45e6bb04",
   "metadata": {},
   "source": [
    "Some of the popular languages that Data Scientists use are:\n",
    "1. Python\n",
    "2. R\n",
    "3. Julia"
   ]
  },
  {
   "cell_type": "markdown",
   "id": "e19218fb-49a7-43d4-a422-91dbb9e9d637",
   "metadata": {},
   "source": [
    "Some of the commonly used libraries used by Data Scientists include:\n",
    "1. Numpy\n",
    "2. Pandas\n",
    "3. Matplotlib\n",
    "4. seaborn"
   ]
  },
  {
   "cell_type": "markdown",
   "id": "32bca845-a6d1-4946-8fac-d04d771408c4",
   "metadata": {},
   "source": [
    "|Data Science Tools|\n",
    "|------------------|\n",
    "|     MySQL        |\n",
    "|  Apache Airflow  |\n",
    "|     kibana       |\n"
   ]
  },
  {
   "cell_type": "markdown",
   "id": "192ae5bb-9c79-4b5f-bbe5-f392e6ed1c4c",
   "metadata": {},
   "source": [
    "### Below are a few examples of evaluating arithmetic expressions in Python"
   ]
  },
  {
   "cell_type": "code",
   "execution_count": 2,
   "id": "5dbfbee7-13d5-4c46-bf29-01e4b14950fe",
   "metadata": {},
   "outputs": [
    {
     "data": {
      "text/plain": [
       "17"
      ]
     },
     "execution_count": 2,
     "metadata": {},
     "output_type": "execute_result"
    }
   ],
   "source": [
    "#This a simple arithmetic expression to mutiply then add integers.\n",
    "(3*4)+5"
   ]
  },
  {
   "cell_type": "code",
   "execution_count": 5,
   "id": "6d264647-5e12-4c85-bd04-6e5220191152",
   "metadata": {},
   "outputs": [
    {
     "name": "stdout",
     "output_type": "stream",
     "text": [
      "num of hours =  3.3333333333333335\n"
     ]
    }
   ],
   "source": [
    "#This will convert 200 minutes to hours by diving by 60.\n",
    "print(\"num of hours = \",200/60)"
   ]
  },
  {
   "cell_type": "markdown",
   "id": "6ae30d75-765c-4255-aee5-4b06b2249477",
   "metadata": {},
   "source": [
    "## Author\n",
    "Mohamed Waleed Ezzat"
   ]
  }
 ],
 "metadata": {
  "kernelspec": {
   "display_name": "Python 3 (ipykernel)",
   "language": "python",
   "name": "python3"
  },
  "language_info": {
   "codemirror_mode": {
    "name": "ipython",
    "version": 3
   },
   "file_extension": ".py",
   "mimetype": "text/x-python",
   "name": "python",
   "nbconvert_exporter": "python",
   "pygments_lexer": "ipython3",
   "version": "3.9.13"
  }
 },
 "nbformat": 4,
 "nbformat_minor": 5
}
